{
 "cells": [
  {
   "cell_type": "markdown",
   "metadata": {},
   "source": [
    "# ***Heart Attack Analysis & Prediction Dataset***\n",
    "## **dataset for heart attack classification:** \n",
    "### **About this dataset**\n",
    "- 1. Age : Age of the patient\n",
    "- 2. Sex : Sex of the patient\n",
    "- 3. exang: exercise induced angina (1 = yes; 0 = no)\n",
    "- 4. caa: number of major vessels (0-3)\n",
    "- 5. cp : Chest Pain type chest pain type\n",
    "    - Value 1: typical angina\n",
    "    - Value 2: atypical angina\n",
    "    - Value 3: non-anginal pain\n",
    "    - Value 4: asymptomatic\n",
    "- 6. trtbps : resting blood pressure (in mm Hg)\n",
    "- 7. chol : cholestoral in mg/dl fetched via BMI sensor\n",
    "- 8. fbs : (fasting blood sugar > 120 mg/dl) (1 = true; 0 = false)\n",
    "- 9. rest_ecg : resting electrocardiographic results\n",
    "    - Value 0: normal\n",
    "    - Value 1: having ST-T wave abnormality (T wave inversions and/or ST elevation or depression of > 0.05 mV)\n",
    "    - Value 2: showing probable or definite left ventricular hypertrophy by Estes' criteria\n",
    "\n",
    "- 10. thalach : maximum heart rate achieved\n",
    "- 11. oldpeak: ST depression induced by exercise relative to rest\n",
    "- 12. slp: the slope of the peak exercise ST segment (2 = upsloping; 1 = flat; 0 = downsloping)\n",
    "- 13. thall: Thal rate( 2 = normal; 1 = fixed defect; 3 = reversable defect)\n",
    "- 14. target : 0= less chance of heart attack 1= more chance of heart attack"
   ]
  },
  {
   "cell_type": "markdown",
   "metadata": {},
   "source": [
    "# Preprocessing\n",
    "- Read data\n",
    "- Check and Drop missing value \n",
    "- Target(num) 1,2,3,4 - have more chance of heart attack. Therefore, they will be assign to value of 1 so that logistic regression can be used later on.\n",
    "- Convert datatype from int to factor."
   ]
  },
  {
   "cell_type": "code",
   "execution_count": 1,
   "metadata": {},
   "outputs": [
    {
     "data": {
      "text/html": [
       "<table>\n",
       "<thead><tr><th scope=col>age</th><th scope=col>sex</th><th scope=col>cp</th><th scope=col>trestbps</th><th scope=col>chol</th><th scope=col>fbs</th><th scope=col>restecg</th><th scope=col>thalach</th><th scope=col>exang</th><th scope=col>oldpeak</th><th scope=col>slope</th><th scope=col>ca</th><th scope=col>thal</th><th scope=col>num</th></tr></thead>\n",
       "<tbody>\n",
       "\t<tr><td>63 </td><td>1  </td><td>1  </td><td>145</td><td>233</td><td>1  </td><td>2  </td><td>150</td><td>0  </td><td>2.3</td><td>3  </td><td>0.0</td><td>6.0</td><td>0  </td></tr>\n",
       "\t<tr><td>67 </td><td>1  </td><td>4  </td><td>160</td><td>286</td><td>0  </td><td>2  </td><td>108</td><td>1  </td><td>1.5</td><td>2  </td><td>3.0</td><td>3.0</td><td>2  </td></tr>\n",
       "\t<tr><td>67 </td><td>1  </td><td>4  </td><td>120</td><td>229</td><td>0  </td><td>2  </td><td>129</td><td>1  </td><td>2.6</td><td>2  </td><td>2.0</td><td>7.0</td><td>1  </td></tr>\n",
       "\t<tr><td>37 </td><td>1  </td><td>3  </td><td>130</td><td>250</td><td>0  </td><td>0  </td><td>187</td><td>0  </td><td>3.5</td><td>3  </td><td>0.0</td><td>3.0</td><td>0  </td></tr>\n",
       "\t<tr><td>41 </td><td>0  </td><td>2  </td><td>130</td><td>204</td><td>0  </td><td>2  </td><td>172</td><td>0  </td><td>1.4</td><td>1  </td><td>0.0</td><td>3.0</td><td>0  </td></tr>\n",
       "\t<tr><td>56 </td><td>1  </td><td>2  </td><td>120</td><td>236</td><td>0  </td><td>0  </td><td>178</td><td>0  </td><td>0.8</td><td>1  </td><td>0.0</td><td>3.0</td><td>0  </td></tr>\n",
       "</tbody>\n",
       "</table>\n"
      ],
      "text/latex": [
       "\\begin{tabular}{r|llllllllllllll}\n",
       " age & sex & cp & trestbps & chol & fbs & restecg & thalach & exang & oldpeak & slope & ca & thal & num\\\\\n",
       "\\hline\n",
       "\t 63  & 1   & 1   & 145 & 233 & 1   & 2   & 150 & 0   & 2.3 & 3   & 0.0 & 6.0 & 0  \\\\\n",
       "\t 67  & 1   & 4   & 160 & 286 & 0   & 2   & 108 & 1   & 1.5 & 2   & 3.0 & 3.0 & 2  \\\\\n",
       "\t 67  & 1   & 4   & 120 & 229 & 0   & 2   & 129 & 1   & 2.6 & 2   & 2.0 & 7.0 & 1  \\\\\n",
       "\t 37  & 1   & 3   & 130 & 250 & 0   & 0   & 187 & 0   & 3.5 & 3   & 0.0 & 3.0 & 0  \\\\\n",
       "\t 41  & 0   & 2   & 130 & 204 & 0   & 2   & 172 & 0   & 1.4 & 1   & 0.0 & 3.0 & 0  \\\\\n",
       "\t 56  & 1   & 2   & 120 & 236 & 0   & 0   & 178 & 0   & 0.8 & 1   & 0.0 & 3.0 & 0  \\\\\n",
       "\\end{tabular}\n"
      ],
      "text/markdown": [
       "\n",
       "| age | sex | cp | trestbps | chol | fbs | restecg | thalach | exang | oldpeak | slope | ca | thal | num |\n",
       "|---|---|---|---|---|---|---|---|---|---|---|---|---|---|\n",
       "| 63  | 1   | 1   | 145 | 233 | 1   | 2   | 150 | 0   | 2.3 | 3   | 0.0 | 6.0 | 0   |\n",
       "| 67  | 1   | 4   | 160 | 286 | 0   | 2   | 108 | 1   | 1.5 | 2   | 3.0 | 3.0 | 2   |\n",
       "| 67  | 1   | 4   | 120 | 229 | 0   | 2   | 129 | 1   | 2.6 | 2   | 2.0 | 7.0 | 1   |\n",
       "| 37  | 1   | 3   | 130 | 250 | 0   | 0   | 187 | 0   | 3.5 | 3   | 0.0 | 3.0 | 0   |\n",
       "| 41  | 0   | 2   | 130 | 204 | 0   | 2   | 172 | 0   | 1.4 | 1   | 0.0 | 3.0 | 0   |\n",
       "| 56  | 1   | 2   | 120 | 236 | 0   | 0   | 178 | 0   | 0.8 | 1   | 0.0 | 3.0 | 0   |\n",
       "\n"
      ],
      "text/plain": [
       "  age sex cp trestbps chol fbs restecg thalach exang oldpeak slope ca  thal num\n",
       "1 63  1   1  145      233  1   2       150     0     2.3     3     0.0 6.0  0  \n",
       "2 67  1   4  160      286  0   2       108     1     1.5     2     3.0 3.0  2  \n",
       "3 67  1   4  120      229  0   2       129     1     2.6     2     2.0 7.0  1  \n",
       "4 37  1   3  130      250  0   0       187     0     3.5     3     0.0 3.0  0  \n",
       "5 41  0   2  130      204  0   2       172     0     1.4     1     0.0 3.0  0  \n",
       "6 56  1   2  120      236  0   0       178     0     0.8     1     0.0 3.0  0  "
      ]
     },
     "metadata": {},
     "output_type": "display_data"
    }
   ],
   "source": [
    "heart <- read.table('processed.cleveland.data',sep=',')\n",
    "names(heart) <- c(\"age\", \"sex\", \"cp\", \"trestbps\", \"chol\", \"fbs\", \"restecg\", \"thalach\", \"exang\", \"oldpeak\", \"slope\", \"ca\", \"thal\", \"num\")\n",
    "head(heart)"
   ]
  },
  {
   "cell_type": "code",
   "execution_count": 2,
   "metadata": {},
   "outputs": [],
   "source": [
    "# Drop missing value\n",
    "heart <- heart[-c(88,167,193,267,288,303),] \n",
    "\n",
    "# Assign new value\n",
    "heart$num[heart$num == 2] <- 1\n",
    "heart$num[heart$num == 3] <- 1\n",
    "heart$num[heart$num == 4] <- 1"
   ]
  },
  {
   "cell_type": "code",
   "execution_count": 3,
   "metadata": {},
   "outputs": [],
   "source": [
    "# Change Data Type and Level to factor\n",
    "heart$sex <- factor(heart$sex)\n",
    "levels(heart$sex) <- c(\"female\", \"male\")\n",
    "\n",
    "heart$cp <- factor(heart$cp)\n",
    "levels(heart$cp) <- c(\"typical\",\"atypical\",\"non-anginal\",\"asymptomatic\")\n",
    "\n",
    "heart$fbs <- factor(heart$fbs)\n",
    "levels(heart$fbs) <- c(\"false\", \"true\")\n",
    "\n",
    "heart$restecg <- factor(heart$restecg)\n",
    "levels(heart$restecg) <- c(\"normal\",\"stt\",\"hypertrophy\")\n",
    "\n",
    "heart$exang <- factor(heart$exang)\n",
    "levels(heart$exang) <- c(\"no\",\"yes\")\n",
    "\n",
    "heart$slope <- factor(heart$slope)\n",
    "levels(heart$slope) <- c(\"upsloping\",\"flat\",\"downsloping\")\n",
    "\n",
    "heart$ca <- factor(heart$ca)\n",
    "\n",
    "heart$thal <- factor(heart$thal)\n",
    "levels(heart$thal) <- c(\"normal\",\"fixed\",\"reversable\")\n",
    "\n",
    "heart$num <- factor(heart$num) "
   ]
  },
  {
   "cell_type": "code",
   "execution_count": 4,
   "metadata": {},
   "outputs": [
    {
     "data": {
      "text/plain": [
       "      age            sex                 cp         trestbps    \n",
       " Min.   :29.00   female: 96   typical     : 23   Min.   : 94.0  \n",
       " 1st Qu.:48.00   male  :201   atypical    : 49   1st Qu.:120.0  \n",
       " Median :56.00                non-anginal : 83   Median :130.0  \n",
       " Mean   :54.54                asymptomatic:142   Mean   :131.7  \n",
       " 3rd Qu.:61.00                                   3rd Qu.:140.0  \n",
       " Max.   :77.00                                   Max.   :200.0  \n",
       "      chol          fbs             restecg       thalach      exang    \n",
       " Min.   :126.0   false:254   normal     :147   Min.   : 71.0   no :200  \n",
       " 1st Qu.:211.0   true : 43   stt        :  4   1st Qu.:133.0   yes: 97  \n",
       " Median :243.0               hypertrophy:146   Median :153.0            \n",
       " Mean   :247.4                                 Mean   :149.6            \n",
       " 3rd Qu.:276.0                                 3rd Qu.:166.0            \n",
       " Max.   :564.0                                 Max.   :202.0            \n",
       "    oldpeak              slope       ca              thal     num    \n",
       " Min.   :0.000   upsloping  :139   0.0:174   normal    :164   0:160  \n",
       " 1st Qu.:0.000   flat       :137   1.0: 65   fixed     : 18   1:137  \n",
       " Median :0.800   downsloping: 21   2.0: 38   reversable:115          \n",
       " Mean   :1.056                     3.0: 20                           \n",
       " 3rd Qu.:1.600                                                       \n",
       " Max.   :6.200                                                       "
      ]
     },
     "metadata": {},
     "output_type": "display_data"
    }
   ],
   "source": [
    "summary(heart)"
   ]
  },
  {
   "cell_type": "markdown",
   "metadata": {},
   "source": [
    "-----------------"
   ]
  },
  {
   "cell_type": "markdown",
   "metadata": {},
   "source": [
    "# Exploration\n",
    "- Plot Histogram of each predictor variable to check distribution and outlier\n",
    "- logit plot to check transformation on predictor variable\n",
    "- Check multicolinearity Problem"
   ]
  },
  {
   "cell_type": "code",
   "execution_count": 5,
   "metadata": {
    "scrolled": false
   },
   "outputs": [
    {
     "data": {
      "image/png": "[encoded data removed]",
      "text/plain": [
       "Plot with title \"Histogram of heart$oldpeak\""
      ]
     },
     "metadata": {},
     "output_type": "display_data"
    }
   ],
   "source": [
    "par(mfrow = c(3,3))\n",
    "\n",
    "hist(heart$age)\n",
    "hist(heart$chol)\n",
    "hist(heart$trestbps)\n",
    "hist(heart$thalach)\n",
    "hist(heart$oldpeak)"
   ]
  },
  {
   "cell_type": "code",
   "execution_count": 34,
   "metadata": {
    "scrolled": false
   },
   "outputs": [
    {
     "data": {
      "image/png": "[encoded data removed]",
      "text/plain": [
       "plot without title"
      ]
     },
     "metadata": {},
     "output_type": "display_data"
    }
   ],
   "source": [
    "# logit plot on numeric data\n",
    "\n",
    "logitplot<-function(y,x,ncat=10,...) {\n",
    "    brksx<-unique(quantile(x,probs=(0:ncat)/ncat))\n",
    "    nbrksx<-length(brksx)\n",
    "    cutx<-cut(x,breaks=brksx,include.lowest=TRUE)\n",
    "    yt<-table(data.frame(y,cutx))\n",
    "    mx<-tapply(x,cutx,FUN=mean)\n",
    "    logity<-log((yt[2,]+0.5)/(yt[1,]+0.5))\n",
    "    plot(mx,logity,...)\n",
    "}\n",
    "\n",
    "par(mfrow = c(3,3))\n",
    "logitplot(heart$num,heart$age, xlab = 'age')\n",
    "logitplot(heart$num,heart$trestbps, xlab = 'trtbps')\n",
    "logitplot(heart$num,heart$chol, xlab = 'chol')\n",
    "logitplot(heart$num,heart$thalach, xlab = 'thalach')\n",
    "logitplot(heart$num,heart$oldpeak, xlab = 'oldpeak')"
   ]
  },
  {
   "cell_type": "markdown",
   "metadata": {},
   "source": [
    "- ไม่มีรูปแบบชัดเจนที่จะต้องพิจารณา transform ตัวแปร X"
   ]
  },
  {
   "cell_type": "markdown",
   "metadata": {},
   "source": [
    "### Check Multicolinearity Problem"
   ]
  },
  {
   "cell_type": "code",
   "execution_count": 32,
   "metadata": {},
   "outputs": [
    {
     "data": {
      "text/html": [
       "<table>\n",
       "<thead><tr><th scope=col>Variables</th><th scope=col>VIF</th></tr></thead>\n",
       "<tbody>\n",
       "\t<tr><td>age     </td><td>1.347358</td></tr>\n",
       "\t<tr><td>trestbps</td><td>1.137604</td></tr>\n",
       "\t<tr><td>chol    </td><td>1.056714</td></tr>\n",
       "\t<tr><td>thalach </td><td>1.330874</td></tr>\n",
       "\t<tr><td>oldpeak </td><td>1.178751</td></tr>\n",
       "</tbody>\n",
       "</table>\n"
      ],
      "text/latex": [
       "\\begin{tabular}{r|ll}\n",
       " Variables & VIF\\\\\n",
       "\\hline\n",
       "\t age      & 1.347358\\\\\n",
       "\t trestbps & 1.137604\\\\\n",
       "\t chol     & 1.056714\\\\\n",
       "\t thalach  & 1.330874\\\\\n",
       "\t oldpeak  & 1.178751\\\\\n",
       "\\end{tabular}\n"
      ],
      "text/markdown": [
       "\n",
       "| Variables | VIF |\n",
       "|---|---|\n",
       "| age      | 1.347358 |\n",
       "| trestbps | 1.137604 |\n",
       "| chol     | 1.056714 |\n",
       "| thalach  | 1.330874 |\n",
       "| oldpeak  | 1.178751 |\n",
       "\n"
      ],
      "text/plain": [
       "  Variables VIF     \n",
       "1 age       1.347358\n",
       "2 trestbps  1.137604\n",
       "3 chol      1.056714\n",
       "4 thalach   1.330874\n",
       "5 oldpeak   1.178751"
      ]
     },
     "metadata": {},
     "output_type": "display_data"
    }
   ],
   "source": [
    "library(usdm)\n",
    "vif(heart[,c(1,4,5,8,10)])"
   ]
  },
  {
   "cell_type": "markdown",
   "metadata": {},
   "source": [
    "- There's no Multicolinearity Problem"
   ]
  },
  {
   "cell_type": "markdown",
   "metadata": {},
   "source": [
    "# Model Building\n",
    "- Full model\n",
    "- Reduce model using stepwise"
   ]
  },
  {
   "cell_type": "markdown",
   "metadata": {},
   "source": [
    "### Full model"
   ]
  },
  {
   "cell_type": "code",
   "execution_count": 42,
   "metadata": {},
   "outputs": [
    {
     "data": {
      "text/plain": [
       "\n",
       "Call:\n",
       "glm(formula = num ~ ., family = binomial, data = heart)\n",
       "\n",
       "Deviance Residuals: \n",
       "    Min       1Q   Median       3Q      Max  \n",
       "-3.0490  -0.4847  -0.1213   0.3039   2.9086  \n",
       "\n",
       "Coefficients:\n",
       "                    Estimate Std. Error z value Pr(>|z|)    \n",
       "(Intercept)        -6.253978   2.960399  -2.113 0.034640 *  \n",
       "age                -0.023508   0.025122  -0.936 0.349402    \n",
       "sexmale             1.670152   0.552486   3.023 0.002503 ** \n",
       "cpatypical          1.448396   0.809136   1.790 0.073446 .  \n",
       "cpnon-anginal       0.393353   0.700338   0.562 0.574347    \n",
       "cpasymptomatic      2.373287   0.709094   3.347 0.000817 ***\n",
       "trestbps            0.027720   0.011748   2.359 0.018300 *  \n",
       "chol                0.004445   0.004091   1.087 0.277253    \n",
       "fbstrue            -0.574079   0.592539  -0.969 0.332622    \n",
       "restecgstt          1.000887   2.638393   0.379 0.704424    \n",
       "restecghypertrophy  0.486408   0.396327   1.227 0.219713    \n",
       "thalach            -0.019695   0.011717  -1.681 0.092781 .  \n",
       "exangyes            0.653306   0.447445   1.460 0.144267    \n",
       "oldpeak             0.390679   0.239173   1.633 0.102373    \n",
       "slopeflat           1.302289   0.486197   2.679 0.007395 ** \n",
       "slopedownsloping    0.606760   0.939324   0.646 0.518309    \n",
       "ca1.0               2.237444   0.514770   4.346 1.38e-05 ***\n",
       "ca2.0               3.271852   0.785123   4.167 3.08e-05 ***\n",
       "ca3.0               2.188715   0.928644   2.357 0.018428 *  \n",
       "thalfixed          -0.168439   0.810310  -0.208 0.835331    \n",
       "thalreversable      1.433319   0.440567   3.253 0.001141 ** \n",
       "---\n",
       "Signif. codes:  0 '***' 0.001 '**' 0.01 '*' 0.05 '.' 0.1 ' ' 1\n",
       "\n",
       "(Dispersion parameter for binomial family taken to be 1)\n",
       "\n",
       "    Null deviance: 409.95  on 296  degrees of freedom\n",
       "Residual deviance: 183.10  on 276  degrees of freedom\n",
       "AIC: 225.1\n",
       "\n",
       "Number of Fisher Scoring iterations: 6\n"
      ]
     },
     "metadata": {},
     "output_type": "display_data"
    }
   ],
   "source": [
    "model <- glm(num~.,data=heart,family=binomial)\n",
    "summary(model) \n",
    "# p-value based on wald's test"
   ]
  },
  {
   "cell_type": "markdown",
   "metadata": {},
   "source": [
    "### R-Square"
   ]
  },
  {
   "cell_type": "code",
   "execution_count": 50,
   "metadata": {},
   "outputs": [
    {
     "data": {
      "text/html": [
       "<table>\n",
       "<thead><tr><th></th><th scope=col>Pseudo.R.squared</th></tr></thead>\n",
       "<tbody>\n",
       "\t<tr><th scope=row>McFadden</th><td>0.553353</td></tr>\n",
       "\t<tr><th scope=row>Cox and Snell (ML)</th><td>0.534102</td></tr>\n",
       "\t<tr><th scope=row>Nagelkerke (Cragg and Uhler)</th><td>0.713568</td></tr>\n",
       "</tbody>\n",
       "</table>\n"
      ],
      "text/latex": [
       "\\begin{tabular}{r|l}\n",
       "  & Pseudo.R.squared\\\\\n",
       "\\hline\n",
       "\tMcFadden & 0.553353\\\\\n",
       "\tCox and Snell (ML) & 0.534102\\\\\n",
       "\tNagelkerke (Cragg and Uhler) & 0.713568\\\\\n",
       "\\end{tabular}\n"
      ],
      "text/markdown": [
       "\n",
       "| <!--/--> | Pseudo.R.squared |\n",
       "|---|---|\n",
       "| McFadden | 0.553353 |\n",
       "| Cox and Snell (ML) | 0.534102 |\n",
       "| Nagelkerke (Cragg and Uhler) | 0.713568 |\n",
       "\n"
      ],
      "text/plain": [
       "                             Pseudo.R.squared\n",
       "McFadden                     0.553353        \n",
       "Cox and Snell (ML)           0.534102        \n",
       "Nagelkerke (Cragg and Uhler) 0.713568        "
      ]
     },
     "metadata": {},
     "output_type": "display_data"
    }
   ],
   "source": [
    "library(rcompanion)\n",
    "nagelkerke(model)$Pseudo.R.squared.for.model.vs.null"
   ]
  },
  {
   "cell_type": "markdown",
   "metadata": {},
   "source": [
    "### Reduced model (stepwise)"
   ]
  },
  {
   "cell_type": "code",
   "execution_count": 11,
   "metadata": {},
   "outputs": [
    {
     "data": {
      "text/plain": [
       "\n",
       "Call:\n",
       "glm(formula = num ~ sex + cp + trestbps + thalach + exang + oldpeak + \n",
       "    slope + ca + thal, family = binomial, data = heart)\n",
       "\n",
       "Deviance Residuals: \n",
       "    Min       1Q   Median       3Q      Max  \n",
       "-3.0614  -0.4830  -0.1201   0.3257   2.9129  \n",
       "\n",
       "Coefficients:\n",
       "                 Estimate Std. Error z value Pr(>|z|)    \n",
       "(Intercept)      -6.51296    2.45370  -2.654 0.007946 ** \n",
       "sexmale           1.55489    0.52222   2.977 0.002907 ** \n",
       "cpatypical        1.46339    0.79116   1.850 0.064359 .  \n",
       "cpnon-anginal     0.30696    0.68387   0.449 0.653536    \n",
       "cpasymptomatic    2.44156    0.69208   3.528 0.000419 ***\n",
       "trestbps          0.02493    0.01070   2.329 0.019861 *  \n",
       "thalach          -0.01493    0.01071  -1.394 0.163450    \n",
       "exangyes          0.63056    0.43943   1.435 0.151300    \n",
       "oldpeak           0.44279    0.22944   1.930 0.053623 .  \n",
       "slopeflat         1.31410    0.47721   2.754 0.005893 ** \n",
       "slopedownsloping  0.56249    0.91149   0.617 0.537160    \n",
       "ca1.0             2.16201    0.49319   4.384 1.17e-05 ***\n",
       "ca2.0             2.94081    0.72291   4.068 4.74e-05 ***\n",
       "ca3.0             2.00426    0.89728   2.234 0.025502 *  \n",
       "thalfixed        -0.37503    0.78094  -0.480 0.631064    \n",
       "thalreversable    1.37461    0.42845   3.208 0.001335 ** \n",
       "---\n",
       "Signif. codes:  0 '***' 0.001 '**' 0.01 '*' 0.05 '.' 0.1 ' ' 1\n",
       "\n",
       "(Dispersion parameter for binomial family taken to be 1)\n",
       "\n",
       "    Null deviance: 409.95  on 296  degrees of freedom\n",
       "Residual deviance: 187.74  on 281  degrees of freedom\n",
       "AIC: 219.74\n",
       "\n",
       "Number of Fisher Scoring iterations: 6\n"
      ]
     },
     "metadata": {},
     "output_type": "display_data"
    }
   ],
   "source": [
    "step_model <- step(model,direction='backward',trace=0)\n",
    "summary(step_model)"
   ]
  },
  {
   "cell_type": "markdown",
   "metadata": {},
   "source": [
    "### R-square"
   ]
  },
  {
   "cell_type": "code",
   "execution_count": 51,
   "metadata": {},
   "outputs": [
    {
     "data": {
      "text/html": [
       "<table>\n",
       "<thead><tr><th></th><th scope=col>Pseudo.R.squared</th></tr></thead>\n",
       "<tbody>\n",
       "\t<tr><th scope=row>McFadden</th><td>0.611661</td></tr>\n",
       "\t<tr><th scope=row>Cox and Snell (ML)</th><td>0.570176</td></tr>\n",
       "\t<tr><th scope=row>Nagelkerke (Cragg and Uhler)</th><td>0.761718</td></tr>\n",
       "</tbody>\n",
       "</table>\n"
      ],
      "text/latex": [
       "\\begin{tabular}{r|l}\n",
       "  & Pseudo.R.squared\\\\\n",
       "\\hline\n",
       "\tMcFadden & 0.611661\\\\\n",
       "\tCox and Snell (ML) & 0.570176\\\\\n",
       "\tNagelkerke (Cragg and Uhler) & 0.761718\\\\\n",
       "\\end{tabular}\n"
      ],
      "text/markdown": [
       "\n",
       "| <!--/--> | Pseudo.R.squared |\n",
       "|---|---|\n",
       "| McFadden | 0.611661 |\n",
       "| Cox and Snell (ML) | 0.570176 |\n",
       "| Nagelkerke (Cragg and Uhler) | 0.761718 |\n",
       "\n"
      ],
      "text/plain": [
       "                             Pseudo.R.squared\n",
       "McFadden                     0.611661        \n",
       "Cox and Snell (ML)           0.570176        \n",
       "Nagelkerke (Cragg and Uhler) 0.761718        "
      ]
     },
     "metadata": {},
     "output_type": "display_data"
    }
   ],
   "source": [
    "library(rcompanion)\n",
    "nagelkerke(step_model)$Pseudo.R.squared.for.model.vs.null"
   ]
  },
  {
   "cell_type": "markdown",
   "metadata": {},
   "source": [
    "### Compared Nested Models\n",
    "- H0: Beta(age) = Beta(chol) = Beta(fbs) = Beta(restecg) = Beta(thalach) = 0 \n",
    "- H1: not H0"
   ]
  },
  {
   "cell_type": "code",
   "execution_count": 13,
   "metadata": {},
   "outputs": [
    {
     "data": {
      "text/html": [
       "0.461320103296092"
      ],
      "text/latex": [
       "0.461320103296092"
      ],
      "text/markdown": [
       "0.461320103296092"
      ],
      "text/plain": [
       "[1] 0.4613201"
      ]
     },
     "metadata": {},
     "output_type": "display_data"
    }
   ],
   "source": [
    "# Compared Nested Model \n",
    "LRT<-deviance(step_model)-deviance(model)\n",
    "1-pchisq(LRT, df.residual(step_model)-df.residual(model))\n",
    "\n",
    "# prefer reduced model (step_model)"
   ]
  },
  {
   "cell_type": "markdown",
   "metadata": {},
   "source": [
    "# Hypothesis testing for a single parameter H0: Beta(k) = 0 vs. Ha: Not H0 (alpha = 5%)\n",
    "## Using likelihood Ratio Test (LRT) "
   ]
  },
  {
   "cell_type": "code",
   "execution_count": 14,
   "metadata": {},
   "outputs": [],
   "source": [
    "full_model <-glm(num~.,data=heart,family=binomial(link='logit'))"
   ]
  },
  {
   "cell_type": "markdown",
   "metadata": {},
   "source": [
    "1. age"
   ]
  },
  {
   "cell_type": "code",
   "execution_count": 15,
   "metadata": {},
   "outputs": [
    {
     "data": {
      "text/html": [
       "0.34754866024385"
      ],
      "text/latex": [
       "0.34754866024385"
      ],
      "text/markdown": [
       "0.34754866024385"
      ],
      "text/plain": [
       "[1] 0.3475487"
      ]
     },
     "metadata": {},
     "output_type": "display_data"
    }
   ],
   "source": [
    "reduce_model <- update(full_model,.~.-age)\n",
    "dif_deviance = deviance(reduce_model)-deviance(full_model)\n",
    "pchisq(dif_deviance,df=1,lower=F)"
   ]
  },
  {
   "cell_type": "markdown",
   "metadata": {},
   "source": [
    "There is no sufficient evidence to reject H0. Therefore, age is not associated with heart attack at 5% level of significance"
   ]
  },
  {
   "cell_type": "markdown",
   "metadata": {},
   "source": [
    "2. Sex"
   ]
  },
  {
   "cell_type": "code",
   "execution_count": 16,
   "metadata": {},
   "outputs": [
    {
     "data": {
      "text/html": [
       "0.00160711904538191"
      ],
      "text/latex": [
       "0.00160711904538191"
      ],
      "text/markdown": [
       "0.00160711904538191"
      ],
      "text/plain": [
       "[1] 0.001607119"
      ]
     },
     "metadata": {},
     "output_type": "display_data"
    }
   ],
   "source": [
    "reduce_model <- update(full_model,.~.-sex)\n",
    "dif_deviance = deviance(reduce_model)-deviance(full_model)\n",
    "pchisq(dif_deviance,df=1,lower=F)"
   ]
  },
  {
   "cell_type": "markdown",
   "metadata": {},
   "source": [
    "There is sufficient evidence to reject H0. Therefore, gender is associated with heart attack at 5% level of significance"
   ]
  },
  {
   "cell_type": "markdown",
   "metadata": {},
   "source": [
    "3. cp"
   ]
  },
  {
   "cell_type": "code",
   "execution_count": 17,
   "metadata": {},
   "outputs": [
    {
     "data": {
      "text/html": [
       "3.92552644022152e-06"
      ],
      "text/latex": [
       "3.92552644022152e-06"
      ],
      "text/markdown": [
       "3.92552644022152e-06"
      ],
      "text/plain": [
       "[1] 3.925526e-06"
      ]
     },
     "metadata": {},
     "output_type": "display_data"
    }
   ],
   "source": [
    "reduce_model <- update(full_model,.~.-cp)\n",
    "dif_deviance = deviance(reduce_model)-deviance(full_model)\n",
    "pchisq(dif_deviance,df=1,lower=F)"
   ]
  },
  {
   "cell_type": "markdown",
   "metadata": {},
   "source": [
    "There is sufficient evidence to reject H0. Therefore, chest pain type is associated with heart attack at 5% level of significance"
   ]
  },
  {
   "cell_type": "markdown",
   "metadata": {},
   "source": [
    "4. trestbps"
   ]
  },
  {
   "cell_type": "code",
   "execution_count": 18,
   "metadata": {},
   "outputs": [
    {
     "data": {
      "text/html": [
       "0.0152856514616199"
      ],
      "text/latex": [
       "0.0152856514616199"
      ],
      "text/markdown": [
       "0.0152856514616199"
      ],
      "text/plain": [
       "[1] 0.01528565"
      ]
     },
     "metadata": {},
     "output_type": "display_data"
    }
   ],
   "source": [
    "reduce_model <- update(full_model,.~.-trestbps)\n",
    "dif_deviance = deviance(reduce_model)-deviance(full_model)\n",
    "pchisq(dif_deviance,df=1,lower=F)"
   ]
  },
  {
   "cell_type": "markdown",
   "metadata": {},
   "source": [
    "There is sufficient evidence to reject H0. Therefore, resting blood pressure is associated with heart attack at 5% level of significance"
   ]
  },
  {
   "cell_type": "markdown",
   "metadata": {},
   "source": [
    "5. chol"
   ]
  },
  {
   "cell_type": "code",
   "execution_count": 19,
   "metadata": {},
   "outputs": [
    {
     "data": {
      "text/html": [
       "0.28350196891481"
      ],
      "text/latex": [
       "0.28350196891481"
      ],
      "text/markdown": [
       "0.28350196891481"
      ],
      "text/plain": [
       "[1] 0.283502"
      ]
     },
     "metadata": {},
     "output_type": "display_data"
    }
   ],
   "source": [
    "reduce_model <- update(full_model,.~.-chol)\n",
    "dif_deviance = deviance(reduce_model)-deviance(full_model)\n",
    "pchisq(dif_deviance,df=1,lower=F)"
   ]
  },
  {
   "cell_type": "markdown",
   "metadata": {},
   "source": [
    "There is not sufficient evidence to reject H0. Therefore, cholestoral is not associated with heart attack at 5% level of significance"
   ]
  },
  {
   "cell_type": "markdown",
   "metadata": {},
   "source": [
    "6. fbs"
   ]
  },
  {
   "cell_type": "code",
   "execution_count": 20,
   "metadata": {},
   "outputs": [
    {
     "data": {
      "text/html": [
       "0.328133979006895"
      ],
      "text/latex": [
       "0.328133979006895"
      ],
      "text/markdown": [
       "0.328133979006895"
      ],
      "text/plain": [
       "[1] 0.328134"
      ]
     },
     "metadata": {},
     "output_type": "display_data"
    }
   ],
   "source": [
    "reduce_model <- update(full_model,.~.-fbs)\n",
    "dif_deviance = deviance(reduce_model)-deviance(full_model)\n",
    "pchisq(dif_deviance,df=1,lower=F)"
   ]
  },
  {
   "cell_type": "markdown",
   "metadata": {},
   "source": [
    "There is not sufficient evidence to reject H0. Therefore, fasting blood sugar is not associated with heart attack at 5% level of significance"
   ]
  },
  {
   "cell_type": "markdown",
   "metadata": {},
   "source": [
    "7. restecg"
   ]
  },
  {
   "cell_type": "code",
   "execution_count": 21,
   "metadata": {},
   "outputs": [
    {
     "data": {
      "text/html": [
       "0.205353914989303"
      ],
      "text/latex": [
       "0.205353914989303"
      ],
      "text/markdown": [
       "0.205353914989303"
      ],
      "text/plain": [
       "[1] 0.2053539"
      ]
     },
     "metadata": {},
     "output_type": "display_data"
    }
   ],
   "source": [
    "reduce_model <- update(full_model,.~.-restecg)\n",
    "dif_deviance = deviance(reduce_model)-deviance(full_model)\n",
    "pchisq(dif_deviance,df=1,lower=F)"
   ]
  },
  {
   "cell_type": "markdown",
   "metadata": {},
   "source": [
    "There is not sufficient evidence to reject H0. Therefore, resting electrocardiographic results is not associated with heart attack at 5% level of significance"
   ]
  },
  {
   "cell_type": "markdown",
   "metadata": {},
   "source": [
    "8. thalach"
   ]
  },
  {
   "cell_type": "code",
   "execution_count": 22,
   "metadata": {},
   "outputs": [
    {
     "data": {
      "text/html": [
       "0.085348964351172"
      ],
      "text/latex": [
       "0.085348964351172"
      ],
      "text/markdown": [
       "0.085348964351172"
      ],
      "text/plain": [
       "[1] 0.08534896"
      ]
     },
     "metadata": {},
     "output_type": "display_data"
    }
   ],
   "source": [
    "reduce_model <- update(full_model,.~.-thalach)\n",
    "dif_deviance = deviance(reduce_model)-deviance(full_model)\n",
    "pchisq(dif_deviance,df=1,lower=F)"
   ]
  },
  {
   "cell_type": "markdown",
   "metadata": {},
   "source": [
    "There is not sufficient evidence to reject H0. Therefore, maximum heart rate achieved is not associated with heart attack at 5% level of significance"
   ]
  },
  {
   "cell_type": "markdown",
   "metadata": {},
   "source": [
    "9. exang"
   ]
  },
  {
   "cell_type": "code",
   "execution_count": 23,
   "metadata": {},
   "outputs": [
    {
     "data": {
      "text/html": [
       "0.145728759483137"
      ],
      "text/latex": [
       "0.145728759483137"
      ],
      "text/markdown": [
       "0.145728759483137"
      ],
      "text/plain": [
       "[1] 0.1457288"
      ]
     },
     "metadata": {},
     "output_type": "display_data"
    }
   ],
   "source": [
    "reduce_model <- update(full_model,.~.-exang)\n",
    "dif_deviance = deviance(reduce_model)-deviance(full_model)\n",
    "pchisq(dif_deviance,df=1,lower=F)"
   ]
  },
  {
   "cell_type": "markdown",
   "metadata": {},
   "source": [
    "There is not sufficient evidence to reject H0. Therefore, exercise induced angina is not associated with heart attack at 5% level of significance"
   ]
  },
  {
   "cell_type": "markdown",
   "metadata": {},
   "source": [
    "10. oldpeak"
   ]
  },
  {
   "cell_type": "code",
   "execution_count": 24,
   "metadata": {},
   "outputs": [
    {
     "data": {
      "text/html": [
       "0.0955777520109022"
      ],
      "text/latex": [
       "0.0955777520109022"
      ],
      "text/markdown": [
       "0.0955777520109022"
      ],
      "text/plain": [
       "[1] 0.09557775"
      ]
     },
     "metadata": {},
     "output_type": "display_data"
    }
   ],
   "source": [
    "reduce_model <- update(full_model,.~.-oldpeak)\n",
    "dif_deviance = deviance(reduce_model)-deviance(full_model)\n",
    "pchisq(dif_deviance,df=1,lower=F)"
   ]
  },
  {
   "cell_type": "markdown",
   "metadata": {},
   "source": [
    "There is not sufficient evidence to reject H0. Therefore, ST depression induced by exercise relative to rest is not associated with heart attack at 5% level of significance"
   ]
  },
  {
   "cell_type": "markdown",
   "metadata": {},
   "source": [
    "11. slope"
   ]
  },
  {
   "cell_type": "code",
   "execution_count": 25,
   "metadata": {},
   "outputs": [
    {
     "data": {
      "text/html": [
       "0.00557581382415507"
      ],
      "text/latex": [
       "0.00557581382415507"
      ],
      "text/markdown": [
       "0.00557581382415507"
      ],
      "text/plain": [
       "[1] 0.005575814"
      ]
     },
     "metadata": {},
     "output_type": "display_data"
    }
   ],
   "source": [
    "reduce_model <- update(full_model,.~.-slope)\n",
    "dif_deviance = deviance(reduce_model)-deviance(full_model)\n",
    "pchisq(dif_deviance,df=1,lower=F)"
   ]
  },
  {
   "cell_type": "markdown",
   "metadata": {},
   "source": [
    "There is sufficient evidence to reject H0. Therefore, the slope of the peak exercise ST segment is associated with heart attack at 5% level of significance"
   ]
  },
  {
   "cell_type": "markdown",
   "metadata": {},
   "source": [
    "12. ca"
   ]
  },
  {
   "cell_type": "code",
   "execution_count": 26,
   "metadata": {},
   "outputs": [
    {
     "data": {
      "text/html": [
       "1.24314114489917e-09"
      ],
      "text/latex": [
       "1.24314114489917e-09"
      ],
      "text/markdown": [
       "1.24314114489917e-09"
      ],
      "text/plain": [
       "[1] 1.243141e-09"
      ]
     },
     "metadata": {},
     "output_type": "display_data"
    }
   ],
   "source": [
    "reduce_model <- update(full_model,.~.-ca)\n",
    "dif_deviance = deviance(reduce_model)-deviance(full_model)\n",
    "pchisq(dif_deviance,df=1,lower=F)"
   ]
  },
  {
   "cell_type": "markdown",
   "metadata": {},
   "source": [
    "There is sufficient evidence to reject H0. Therefore, number of major vessels is associated with heart attack at 5% level of significance"
   ]
  },
  {
   "cell_type": "markdown",
   "metadata": {},
   "source": [
    "13. thall"
   ]
  },
  {
   "cell_type": "code",
   "execution_count": 27,
   "metadata": {},
   "outputs": [
    {
     "data": {
      "text/html": [
       "0.000349391941598438"
      ],
      "text/latex": [
       "0.000349391941598438"
      ],
      "text/markdown": [
       "0.000349391941598438"
      ],
      "text/plain": [
       "[1] 0.0003493919"
      ]
     },
     "metadata": {},
     "output_type": "display_data"
    }
   ],
   "source": [
    "reduce_model <- update(full_model,.~.-thal)\n",
    "dif_deviance = deviance(reduce_model)-deviance(full_model)\n",
    "pchisq(dif_deviance,df=1,lower=F)"
   ]
  },
  {
   "cell_type": "markdown",
   "metadata": {},
   "source": [
    "There is sufficient evidence to reject H0. Therefore, Thal rate is associated with heart attack at 5% level of significance"
   ]
  },
  {
   "cell_type": "markdown",
   "metadata": {},
   "source": [
    "## Accuracy on Unseen Data"
   ]
  },
  {
   "cell_type": "code",
   "execution_count": 28,
   "metadata": {},
   "outputs": [],
   "source": [
    "n<-nrow(heart)\n",
    "fold<-5\n",
    "# fold<-10\n",
    "nfold<-round(n/fold)\n",
    "\n",
    "# neachfold<-c(rep(30,7), rep(29,3))\n",
    "neachfold<-c(rep(59,4), rep(61,1))\n",
    "\n",
    "randind<-sample(1:n, n)\n",
    "foldind<-rep(NA, n)\n",
    "\n",
    "for (i in 1:fold)\n",
    "{\n",
    "  if (i==1)\n",
    "  {\n",
    "    foldind[sort(randind[1:sum(neachfold[1:i])])]<-i\n",
    "  }\n",
    "  else\n",
    "  {\n",
    "    foldind[sort(randind[(sum(neachfold[1:(i-1)])+1):sum(neachfold[1:i])])]<-i\n",
    "  }\n",
    "}"
   ]
  },
  {
   "cell_type": "code",
   "execution_count": 29,
   "metadata": {},
   "outputs": [
    {
     "data": {
      "text/html": [
       "0.828674631842178"
      ],
      "text/latex": [
       "0.828674631842178"
      ],
      "text/markdown": [
       "0.828674631842178"
      ],
      "text/plain": [
       "[1] 0.8286746"
      ]
     },
     "metadata": {},
     "output_type": "display_data"
    },
    {
     "data": {
      "text/html": [
       "0.81839399833287"
      ],
      "text/latex": [
       "0.81839399833287"
      ],
      "text/markdown": [
       "0.81839399833287"
      ],
      "text/plain": [
       "[1] 0.818394"
      ]
     },
     "metadata": {},
     "output_type": "display_data"
    }
   ],
   "source": [
    "acc_model<-rep(NA, 5)\n",
    "acc_step<-rep(NA, 5)\n",
    "\n",
    "for (i in 1:fold)\n",
    "{\n",
    "    traindata<-heart[foldind!=i,]\n",
    "    testdata<-heart[foldind==i,]\n",
    "\n",
    "    model <- glm(num~.,data=traindata,family=binomial)\n",
    "    pred<-predict(model, testdata,type='response')\n",
    "    testdata['pred_prob_model'] <- pred  \n",
    "    testdata['predict_model'] <- ifelse(testdata$pred_prob_model >0.5,1,0)\n",
    "\n",
    "    step_model <- step(model,direction='backward',trace=0)\n",
    "    pred<-predict(step_model, testdata,type='response')\n",
    "    testdata['pred_prob_step'] <- pred  \n",
    "    testdata['predict_step'] <- ifelse(testdata$pred_prob_step >0.5,1,0)\n",
    "    \n",
    "    accuracy1 <- nrow(testdata[testdata$num==testdata$predict_model,])/nrow(testdata)\n",
    "    acc_model[i]<-accuracy1\n",
    "    \n",
    "    accuracy2 <- nrow(testdata[testdata$num==testdata$predict_step,])/nrow(testdata)\n",
    "    acc_step[i]<-accuracy2\n",
    "}\n",
    "\n",
    "sum(acc_model)/fold\n",
    "sum(acc_step)/fold"
   ]
  },
  {
   "cell_type": "code",
   "execution_count": 30,
   "metadata": {},
   "outputs": [
    {
     "data": {
      "text/html": [
       "<ol class=list-inline>\n",
       "\t<li>0.796610169491525</li>\n",
       "\t<li>0.830508474576271</li>\n",
       "\t<li>0.813559322033898</li>\n",
       "\t<li>0.932203389830508</li>\n",
       "\t<li>0.770491803278688</li>\n",
       "</ol>\n"
      ],
      "text/latex": [
       "\\begin{enumerate*}\n",
       "\\item 0.796610169491525\n",
       "\\item 0.830508474576271\n",
       "\\item 0.813559322033898\n",
       "\\item 0.932203389830508\n",
       "\\item 0.770491803278688\n",
       "\\end{enumerate*}\n"
      ],
      "text/markdown": [
       "1. 0.796610169491525\n",
       "2. 0.830508474576271\n",
       "3. 0.813559322033898\n",
       "4. 0.932203389830508\n",
       "5. 0.770491803278688\n",
       "\n",
       "\n"
      ],
      "text/plain": [
       "[1] 0.7966102 0.8305085 0.8135593 0.9322034 0.7704918"
      ]
     },
     "metadata": {},
     "output_type": "display_data"
    },
    {
     "data": {
      "text/html": [
       "<ol class=list-inline>\n",
       "\t<li>0.779661016949153</li>\n",
       "\t<li>0.779661016949153</li>\n",
       "\t<li>0.813559322033898</li>\n",
       "\t<li>0.932203389830508</li>\n",
       "\t<li>0.786885245901639</li>\n",
       "</ol>\n"
      ],
      "text/latex": [
       "\\begin{enumerate*}\n",
       "\\item 0.779661016949153\n",
       "\\item 0.779661016949153\n",
       "\\item 0.813559322033898\n",
       "\\item 0.932203389830508\n",
       "\\item 0.786885245901639\n",
       "\\end{enumerate*}\n"
      ],
      "text/markdown": [
       "1. 0.779661016949153\n",
       "2. 0.779661016949153\n",
       "3. 0.813559322033898\n",
       "4. 0.932203389830508\n",
       "5. 0.786885245901639\n",
       "\n",
       "\n"
      ],
      "text/plain": [
       "[1] 0.7796610 0.7796610 0.8135593 0.9322034 0.7868852"
      ]
     },
     "metadata": {},
     "output_type": "display_data"
    }
   ],
   "source": [
    "acc_model\n",
    "acc_step"
   ]
  },
  {
   "cell_type": "code",
   "execution_count": 31,
   "metadata": {},
   "outputs": [
    {
     "data": {
      "image/png": "[encoded data removed]",
      "text/plain": [
       "Plot with title \"\""
      ]
     },
     "metadata": {},
     "output_type": "display_data"
    }
   ],
   "source": [
    "plot(model,4)"
   ]
  },
  {
   "cell_type": "code",
   "execution_count": null,
   "metadata": {},
   "outputs": [],
   "source": []
  }
 ],
 "metadata": {
  "kernelspec": {
   "display_name": "R",
   "language": "R",
   "name": "ir"
  },
  "language_info": {
   "codemirror_mode": "r",
   "file_extension": ".r",
   "mimetype": "text/x-r-source",
   "name": "R",
   "pygments_lexer": "r",
   "version": "3.6.3"
  }
 },
 "nbformat": 4,
 "nbformat_minor": 2
}
